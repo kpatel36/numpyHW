{
 "cells": [
  {
   "cell_type": "markdown",
   "metadata": {},
   "source": [
    "# Exercises"
   ]
  },
  {
   "cell_type": "markdown",
   "metadata": {},
   "source": [
    "### #1 - Calculate the BMI (body mass index) on the two lists below using NDArrays..."
   ]
  },
  {
   "cell_type": "code",
   "execution_count": 5,
   "metadata": {},
   "outputs": [
    {
     "name": "stdout",
     "output_type": "stream",
     "text": [
      "[110 120 130 140 150 160 170] [69 70 71 72 73 74 75]\n",
      "[16.86620458 17.87755102 18.82562984 19.71450617 20.54794521 21.32943755\n",
      " 22.06222222]\n"
     ]
    }
   ],
   "source": [
    "import numpy as np\n",
    "# formula = weight / (height**2) * 730\n",
    "height = [69, 70, 71, 72, 73, 74, 75]\n",
    "weight = [110, 120, 130, 140, 150, 160, 170]\n",
    "\n",
    "# OUTPUT: [16.86620458 17.87755102 18.82562984 19.71450617 20.54794521 21.32943755\n",
    "# 22.06222222]\n",
    "\n",
    "height2 = np.array(height)\n",
    "weight2 = np.array(weight)\n",
    "print(weight2,height2)\n",
    "\n",
    "BMI = (weight2 / (height2**2)) *730\n",
    "print(BMI)"
   ]
  },
  {
   "cell_type": "markdown",
   "metadata": {},
   "source": [
    "### #2 - Create a function that will take in two parameters and will create a random matrix based off of those parameters. Extra: Have additional parameters taken in that allow the user to choose the shape and data type of the matrix."
   ]
  },
  {
   "cell_type": "code",
   "execution_count": 46,
   "metadata": {
    "scrolled": true
   },
   "outputs": [
    {
     "name": "stdout",
     "output_type": "stream",
     "text": [
      "[[0.57900693 0.45816905 0.92662586 0.92828602 0.05609005 0.74031184\n",
      "  0.80314834 0.59932671 0.68021131 0.00155309 0.33554198 0.72594068]\n",
      " [0.79533897 0.97476488 0.16487463 0.81929059 0.59860441 0.29018725\n",
      "  0.66970499 0.12412798 0.9266619  0.44650035 0.18225473 0.43709279]]\n",
      "[[0.57900693 0.45816905 0.92662586 0.92828602]\n",
      " [0.05609005 0.74031184 0.80314834 0.59932671]\n",
      " [0.68021131 0.00155309 0.33554198 0.72594068]\n",
      " [0.79533897 0.97476488 0.16487463 0.81929059]\n",
      " [0.59860441 0.29018725 0.66970499 0.12412798]\n",
      " [0.9266619  0.44650035 0.18225473 0.43709279]]\n"
     ]
    }
   ],
   "source": [
    "\"\"\"\n",
    "Example Result\n",
    "array([[14.21633515,  7.98846653,  9.64140715],\n",
    "       [ 6.30982234,  9.96414331,  8.43153688],\n",
    "       [14.73102068, 11.76072894, 14.23356121]])\n",
    "\"\"\"\n",
    "# def makeMatrix(low,high,shape,data_type = float): -- Example\n",
    "#     pass\n",
    "\n",
    "def makeMatrix(low, high):\n",
    "    p = np.random.rand(low,high)\n",
    "    new_P=p.reshape(6,4) # these bounds must multiply to equal same as product of low*high\n",
    "    print(p)\n",
    "    print(new_P)\n",
    "\n",
    "makeMatrix(2,12)"
   ]
  },
  {
   "cell_type": "markdown",
   "metadata": {},
   "source": [
    "### #3 - Extra: Open and load the data in the two text files that have the Boston Red Sox hitting data for the past seasons. Compare the difference in the two years by putting the data into an NDArray and running a differencial operation on it. The column to look for will be SLG.\n",
    "\n",
    "Your output should display which year (either 2017 or 2018) was a better year based on SLG"
   ]
  },
  {
   "cell_type": "code",
   "execution_count": null,
   "metadata": {},
   "outputs": [],
   "source": [
    "import csv\n",
    "import numpy as np\n",
    "\n",
    "#Test to make sure you have the correct data\n",
    "def open_csv(filename, delim =','): #most csvs are comma separated \n",
    "    #define an empty list to store data\n",
    "    data_a=[]\n",
    "    with open(filename, encoding='utf-8') as openedFile: #open another file in background using without manually closing background file\n",
    "        # use csv package reader method to read that file\n",
    "        readData = csv.reader(openedFile, delimiter=delim)\n",
    "        # loop over info and append data row by row to list data_a\n",
    "        for row in readData:\n",
    "            data_a.append(row)\n",
    "        return data_a\n",
    "    \n",
    "csv_data2018=open_csv('./files/redsox_2018_hitting.txt')\n",
    "print(csv_data2018)\n",
    "csv_data2017=open_csv('./files/redsox_2017_hitting.txt')\n",
    "print(csv_data2017)"
   ]
  },
  {
   "cell_type": "code",
   "execution_count": 59,
   "metadata": {},
   "outputs": [
    {
     "name": "stdout",
     "output_type": "stream",
     "text": [
      "[0.404 0.443 0.392 0.403 0.482 0.424 0.402 0.459 0.429 0.354 0.387 0.333\n",
      " 0.539 0.243 0.262 0.354 0.342 0.339 0.328 0.306 0.222 0.2   1.   ]\n",
      "[0.279 0.433 0.388 0.522 0.433 0.465 0.403 0.64  0.629 0.411 0.283 0.328\n",
      " 0.395 0.507 0.311 0.415 0.389 0.261 0.091 0.167]\n",
      "2017 had a better SLG\n"
     ]
    }
   ],
   "source": [
    "\"\"\"\n",
    "Example Result - Not the actual result\n",
    "Boston 18 had more SLG in 2018\n",
    "[0.404 0.443 0.392 0.403 0.482 0.424 0.402 0.459 0.429 0.354 0.387 0.333\n",
    " 0.539 0.243 0.262 0.354 0.342 0.339 0.328 0.306 0.222 0.2   1.   ]\n",
    "\"\"\"\n",
    "\n",
    "FIELDS = ['Rk', 'Pos', 'Name', 'Age', 'G', 'PA', 'AB', 'R', 'H', '2B', '3B', 'HR', 'RBI', 'SB', 'CS', \n",
    "          'BB', 'SO', 'BA', 'OBP', 'SLG', 'OPS', 'OPS+', 'TB', 'GDP', 'HBP', 'SH', 'SF', 'IBB']\n",
    "\n",
    "DATATYPES = [('rk', 'i'), ('pos', '|S25'), ('name', '|S25'), ('age', 'i'), ('g', 'i'), ('pa', 'i'), ('ab', 'i'),\n",
    "                ('r', 'i'), ('h', 'i'), ('2b', 'i'), ('3b', 'i'), ('hr', 'i'), ('rbi', 'i'), ('sb', 'i'), ('cs', 'i'),\n",
    "                ('bb', 'i'), ('so', 'i'), ('ba', 'f'), ('obp', 'f'), ('slg', 'f'), ('ops', 'f'), ('opsp', 'i'),\n",
    "                ('tb', 'i'), ('gdp', 'i'), ('hbp', 'i'), ('sh', 'i'), ('sf', 'i'), ('ibb', 'i')]\n",
    "\n",
    "#Use this function to actually open the data inside of a NDArray\n",
    "def load_data(filename, delim=','):\n",
    "    return np.genfromtxt(filename, delimiter=delim, skip_header=1, usecols=np.arange(0,24), invalid_raise=False, names=FIELDS, dtype=DATATYPES)\n",
    "    #genfromtxt - generate from text file, generate an empty array from a text file, can organize with parameters\n",
    "    # skip_header - tells how many header rows we have, in this case the first row only based on text file\n",
    "    # use_cols = how many columns are there - 24 so create range from 0, 24\n",
    "    # invalid_raise = don't throw an error if something is invalid\n",
    "    # names of our columns will be FIELDS list from above\n",
    "    # datatypes list will be datatypes list from above\n",
    "\n",
    "bs2017 = load_data('./files/redsox_2017_hitting.txt')\n",
    "slg2017 = bs2017['SLG']\n",
    "print(slg2017)\n",
    "bs2018 = load_data('./files/redsox_2018_hitting.txt')\n",
    "slg2018 = bs2018['SLG']\n",
    "print(slg2018)\n",
    "\n",
    "def compare_slg(set1, set2):\n",
    "    if len(set1)>len(set2):\n",
    "        print('2017 had a better SLG')\n",
    "    elif len(set2)>len(set1):\n",
    "        print('2018 had a beter SLG')\n",
    "    elif len(set2)==len(set1):\n",
    "        print('both years had the same SLG')\n",
    "compare_slg(slg2017,slg2018)"
   ]
  }
 ],
 "metadata": {
  "kernelspec": {
   "display_name": "Python 3 (ipykernel)",
   "language": "python",
   "name": "python3"
  },
  "language_info": {
   "codemirror_mode": {
    "name": "ipython",
    "version": 3
   },
   "file_extension": ".py",
   "mimetype": "text/x-python",
   "name": "python",
   "nbconvert_exporter": "python",
   "pygments_lexer": "ipython3",
   "version": "3.9.7"
  }
 },
 "nbformat": 4,
 "nbformat_minor": 2
}
